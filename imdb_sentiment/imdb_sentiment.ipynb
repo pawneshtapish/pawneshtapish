{
 "cells": [
  {
   "cell_type": "code",
   "execution_count": 1,
   "metadata": {
    "colab": {
     "base_uri": "https://localhost:8080/",
     "height": 206
    },
    "colab_type": "code",
    "id": "RyCFB0EAZd-I",
    "outputId": "abfcc527-06df-46fe-9dc2-ac8393194a17"
   },
   "outputs": [
    {
     "data": {
      "text/html": [
       "<div>\n",
       "<style scoped>\n",
       "    .dataframe tbody tr th:only-of-type {\n",
       "        vertical-align: middle;\n",
       "    }\n",
       "\n",
       "    .dataframe tbody tr th {\n",
       "        vertical-align: top;\n",
       "    }\n",
       "\n",
       "    .dataframe thead th {\n",
       "        text-align: right;\n",
       "    }\n",
       "</style>\n",
       "<table border=\"1\" class=\"dataframe\">\n",
       "  <thead>\n",
       "    <tr style=\"text-align: right;\">\n",
       "      <th></th>\n",
       "      <th>review</th>\n",
       "      <th>sentiment</th>\n",
       "    </tr>\n",
       "  </thead>\n",
       "  <tbody>\n",
       "    <tr>\n",
       "      <th>0</th>\n",
       "      <td>One of the other reviewers has mentioned that ...</td>\n",
       "      <td>positive</td>\n",
       "    </tr>\n",
       "    <tr>\n",
       "      <th>1</th>\n",
       "      <td>A wonderful little production. &lt;br /&gt;&lt;br /&gt;The...</td>\n",
       "      <td>positive</td>\n",
       "    </tr>\n",
       "    <tr>\n",
       "      <th>2</th>\n",
       "      <td>I thought this was a wonderful way to spend ti...</td>\n",
       "      <td>positive</td>\n",
       "    </tr>\n",
       "    <tr>\n",
       "      <th>3</th>\n",
       "      <td>Basically there's a family where a little boy ...</td>\n",
       "      <td>negative</td>\n",
       "    </tr>\n",
       "    <tr>\n",
       "      <th>4</th>\n",
       "      <td>Petter Mattei's \"Love in the Time of Money\" is...</td>\n",
       "      <td>positive</td>\n",
       "    </tr>\n",
       "  </tbody>\n",
       "</table>\n",
       "</div>"
      ],
      "text/plain": [
       "                                              review sentiment\n",
       "0  One of the other reviewers has mentioned that ...  positive\n",
       "1  A wonderful little production. <br /><br />The...  positive\n",
       "2  I thought this was a wonderful way to spend ti...  positive\n",
       "3  Basically there's a family where a little boy ...  negative\n",
       "4  Petter Mattei's \"Love in the Time of Money\" is...  positive"
      ]
     },
     "execution_count": 1,
     "metadata": {
      "tags": []
     },
     "output_type": "execute_result"
    }
   ],
   "source": [
    "import warnings\n",
    "warnings.filterwarnings(\"ignore\")\n",
    "import pandas as pd\n",
    "import numpy as np\n",
    "import re\n",
    "from sklearn.model_selection import train_test_split\n",
    "from tensorflow.keras.preprocessing.text import Tokenizer\n",
    "from tensorflow.keras.preprocessing.sequence import pad_sequences\n",
    "from tensorflow.keras.models import Sequential\n",
    "from tensorflow.keras.layers import Dropout, Dense, LSTM, Embedding\n",
    "data = pd.read_csv('IMDB Dataset.csv')\n",
    "data.head()"
   ]
  },
  {
   "cell_type": "code",
   "execution_count": 0,
   "metadata": {
    "colab": {},
    "colab_type": "code",
    "id": "SLZIiU1bac6E"
   },
   "outputs": [],
   "source": [
    "def preprocess(text):\n",
    "    review = re.compile(r'<[^>]+>').sub('', text)\n",
    "    review = re.sub('[^a-zA-Z]', ' ', review)\n",
    "    review = re.sub(r\"\\s+[a-zA-Z]\\s+\", ' ', review)\n",
    "    review = re.sub(r'\\s+', ' ', review)\n",
    "    return review"
   ]
  },
  {
   "cell_type": "code",
   "execution_count": 0,
   "metadata": {
    "colab": {},
    "colab_type": "code",
    "id": "5cOYepFybq4o"
   },
   "outputs": [],
   "source": [
    "data['review'] = data.review.apply(lambda x:preprocess(x))\n",
    "data['sentiment'] = data.sentiment.apply(lambda x:1 if x=='positive' else 0)\n",
    "train_review, valid_review, train_sentiment, valid_sentiment = train_test_split(data.review.values, data.sentiment.values, test_size=0.20, random_state=42)\n",
    "tokenizer = Tokenizer(num_words=5000, lower=True, oov_token='<OOV>')\n",
    "tokenizer.fit_on_texts(train_review)\n",
    "train_review = tokenizer.texts_to_sequences(train_review)\n",
    "valid_review = tokenizer.texts_to_sequences(valid_review)"
   ]
  },
  {
   "cell_type": "code",
   "execution_count": 0,
   "metadata": {
    "colab": {},
    "colab_type": "code",
    "id": "YqMBxyYoc2WZ"
   },
   "outputs": [],
   "source": [
    "train_review = pad_sequences(train_review, padding='post', maxlen=200)\n",
    "valid_review = pad_sequences(valid_review, padding='post', maxlen=200)"
   ]
  },
  {
   "cell_type": "code",
   "execution_count": 5,
   "metadata": {
    "colab": {
     "base_uri": "https://localhost:8080/",
     "height": 260
    },
    "colab_type": "code",
    "id": "uc57BrA6c5af",
    "outputId": "7da16315-2875-420e-bda1-b4f4828743a6"
   },
   "outputs": [
    {
     "name": "stdout",
     "output_type": "stream",
     "text": [
      "Model: \"sequential\"\n",
      "_________________________________________________________________\n",
      "Layer (type)                 Output Shape              Param #   \n",
      "=================================================================\n",
      "embedding (Embedding)        (None, 200, 64)           320000    \n",
      "_________________________________________________________________\n",
      "lstm (LSTM)                  (None, 128)               98816     \n",
      "_________________________________________________________________\n",
      "dense (Dense)                (None, 1)                 129       \n",
      "=================================================================\n",
      "Total params: 418,945\n",
      "Trainable params: 418,945\n",
      "Non-trainable params: 0\n",
      "_________________________________________________________________\n"
     ]
    }
   ],
   "source": [
    "model = Sequential() \n",
    "model.add(Embedding(5000, 64, input_length=200)) \n",
    "model.add(LSTM(128))\n",
    "model.add(Dense(1, activation='sigmoid'))\n",
    "model.compile(loss='binary_crossentropy',optimizer='rmsprop', metrics=['accuracy'])\n",
    "model.summary()"
   ]
  },
  {
   "cell_type": "code",
   "execution_count": 6,
   "metadata": {
    "colab": {
     "base_uri": "https://localhost:8080/",
     "height": 729
    },
    "colab_type": "code",
    "id": "Xc6a6Pufc6SQ",
    "outputId": "b96fb8b3-eb92-4d04-f9c9-f4c13a18cff3"
   },
   "outputs": [
    {
     "name": "stdout",
     "output_type": "stream",
     "text": [
      "Epoch 1/20\n",
      "313/313 [==============================] - 18s 56ms/step - loss: 0.5696 - accuracy: 0.7048 - val_loss: 0.6364 - val_accuracy: 0.6486\n",
      "Epoch 2/20\n",
      "313/313 [==============================] - 17s 54ms/step - loss: 0.4399 - accuracy: 0.8257 - val_loss: 0.4285 - val_accuracy: 0.8457\n",
      "Epoch 3/20\n",
      "313/313 [==============================] - 17s 53ms/step - loss: 0.3776 - accuracy: 0.8609 - val_loss: 0.3683 - val_accuracy: 0.8597\n",
      "Epoch 4/20\n",
      "313/313 [==============================] - 17s 53ms/step - loss: 0.3307 - accuracy: 0.8743 - val_loss: 0.3033 - val_accuracy: 0.8797\n",
      "Epoch 5/20\n",
      "313/313 [==============================] - 17s 54ms/step - loss: 0.3178 - accuracy: 0.8801 - val_loss: 0.3145 - val_accuracy: 0.8724\n",
      "Epoch 6/20\n",
      "313/313 [==============================] - 17s 54ms/step - loss: 0.3166 - accuracy: 0.8785 - val_loss: 0.3203 - val_accuracy: 0.8802\n",
      "Epoch 7/20\n",
      "313/313 [==============================] - 17s 53ms/step - loss: 0.2955 - accuracy: 0.8886 - val_loss: 0.3602 - val_accuracy: 0.8303\n",
      "Epoch 8/20\n",
      "313/313 [==============================] - 17s 53ms/step - loss: 0.3265 - accuracy: 0.8762 - val_loss: 0.3254 - val_accuracy: 0.8765\n",
      "Epoch 9/20\n",
      "313/313 [==============================] - 17s 54ms/step - loss: 0.2858 - accuracy: 0.8907 - val_loss: 0.3382 - val_accuracy: 0.8774\n",
      "Epoch 10/20\n",
      "313/313 [==============================] - 17s 54ms/step - loss: 0.2746 - accuracy: 0.8967 - val_loss: 0.3438 - val_accuracy: 0.8741\n",
      "Epoch 11/20\n",
      "313/313 [==============================] - 17s 54ms/step - loss: 0.2709 - accuracy: 0.8943 - val_loss: 0.3834 - val_accuracy: 0.8353\n",
      "Epoch 12/20\n",
      "313/313 [==============================] - 17s 54ms/step - loss: 0.2615 - accuracy: 0.8993 - val_loss: 0.3154 - val_accuracy: 0.8708\n",
      "Epoch 13/20\n",
      "313/313 [==============================] - 17s 54ms/step - loss: 0.2487 - accuracy: 0.9043 - val_loss: 0.3371 - val_accuracy: 0.8731\n",
      "Epoch 14/20\n",
      "313/313 [==============================] - 17s 54ms/step - loss: 0.2311 - accuracy: 0.9098 - val_loss: 0.3432 - val_accuracy: 0.8579\n",
      "Epoch 15/20\n",
      "313/313 [==============================] - 17s 53ms/step - loss: 0.2206 - accuracy: 0.9146 - val_loss: 0.3016 - val_accuracy: 0.8802\n",
      "Epoch 16/20\n",
      "313/313 [==============================] - 17s 53ms/step - loss: 0.2088 - accuracy: 0.9198 - val_loss: 0.2936 - val_accuracy: 0.8829\n",
      "Epoch 17/20\n",
      "313/313 [==============================] - 17s 54ms/step - loss: 0.1967 - accuracy: 0.9254 - val_loss: 0.3320 - val_accuracy: 0.8705\n",
      "Epoch 18/20\n",
      "313/313 [==============================] - 17s 54ms/step - loss: 0.1838 - accuracy: 0.9301 - val_loss: 0.3169 - val_accuracy: 0.8830\n",
      "Epoch 19/20\n",
      "313/313 [==============================] - 17s 54ms/step - loss: 0.1698 - accuracy: 0.9358 - val_loss: 0.3234 - val_accuracy: 0.8769\n",
      "Epoch 20/20\n",
      "313/313 [==============================] - 17s 55ms/step - loss: 0.1638 - accuracy: 0.9372 - val_loss: 0.3200 - val_accuracy: 0.8783\n"
     ]
    },
    {
     "data": {
      "text/plain": [
       "<tensorflow.python.keras.callbacks.History at 0x7f44c3b1f1d0>"
      ]
     },
     "execution_count": 6,
     "metadata": {
      "tags": []
     },
     "output_type": "execute_result"
    }
   ],
   "source": [
    "model.fit(train_review, train_sentiment, validation_data=(valid_review, valid_sentiment), epochs=20, batch_size=128) "
   ]
  },
  {
   "cell_type": "code",
   "execution_count": 27,
   "metadata": {
    "colab": {
     "base_uri": "https://localhost:8080/",
     "height": 52
    },
    "colab_type": "code",
    "id": "1zShy-AReU59",
    "outputId": "b4e080a4-e64e-4236-b9ee-b81c34221a71"
   },
   "outputs": [
    {
     "name": "stdout",
     "output_type": "stream",
     "text": [
      "313/313 [==============================] - 5s 16ms/step - loss: 0.3177 - accuracy: 0.8783\n",
      "Test Accuracy: 0.8783000111579895\n"
     ]
    }
   ],
   "source": [
    "from sklearn.metrics import accuracy_score\n",
    "evaluate = model.evaluate(valid_review, valid_sentiment, verbose=1)\n",
    "print(\"Accuracy on validation dataset:\", evaluate[1])"
   ]
  },
  {
   "cell_type": "code",
   "execution_count": 0,
   "metadata": {
    "colab": {},
    "colab_type": "code",
    "id": "cu4-aX_6tSJO"
   },
   "outputs": [],
   "source": []
  }
 ],
 "metadata": {
  "accelerator": "GPU",
  "colab": {
   "collapsed_sections": [],
   "name": "imdb sentiment.ipynb",
   "provenance": []
  },
  "kernelspec": {
   "display_name": "Python 3",
   "language": "python",
   "name": "python3"
  },
  "language_info": {
   "codemirror_mode": {
    "name": "ipython",
    "version": 3
   },
   "file_extension": ".py",
   "mimetype": "text/x-python",
   "name": "python",
   "nbconvert_exporter": "python",
   "pygments_lexer": "ipython3",
   "version": "3.6.9"
  }
 },
 "nbformat": 4,
 "nbformat_minor": 1
}
